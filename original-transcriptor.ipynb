{
 "cells": [
  {
   "cell_type": "code",
   "id": "2239b144-6141-4b51-9ead-0d837347d3f9",
   "metadata": {
    "ExecuteTime": {
     "end_time": "2024-08-02T08:11:21.610724Z",
     "start_time": "2024-08-02T08:11:12.779483Z"
    }
   },
   "source": [
    "!pip install ffmpeg-python"
   ],
   "outputs": [
    {
     "name": "stdout",
     "output_type": "stream",
     "text": [
      "Requirement already satisfied: ffmpeg-python in /home/oleksandra/anaconda3/lib/python3.12/site-packages (0.2.0)\r\n",
      "Requirement already satisfied: future in /home/oleksandra/anaconda3/lib/python3.12/site-packages (from ffmpeg-python) (1.0.0)\r\n"
     ]
    }
   ],
   "execution_count": 1
  },
  {
   "cell_type": "code",
   "id": "62b24ff6-ca5d-440e-b08d-882e2e9bda14",
   "metadata": {
    "ExecuteTime": {
     "end_time": "2024-08-02T08:11:28.973300Z",
     "start_time": "2024-08-02T08:11:21.616503Z"
    }
   },
   "source": [
    "!pip install SpeechRecognition"
   ],
   "outputs": [
    {
     "name": "stdout",
     "output_type": "stream",
     "text": [
      "Requirement already satisfied: SpeechRecognition in /home/oleksandra/anaconda3/lib/python3.12/site-packages (3.10.4)\r\n",
      "Requirement already satisfied: requests>=2.26.0 in /home/oleksandra/anaconda3/lib/python3.12/site-packages (from SpeechRecognition) (2.32.2)\r\n",
      "Requirement already satisfied: typing-extensions in /home/oleksandra/anaconda3/lib/python3.12/site-packages (from SpeechRecognition) (4.11.0)\r\n",
      "Requirement already satisfied: charset-normalizer<4,>=2 in /home/oleksandra/anaconda3/lib/python3.12/site-packages (from requests>=2.26.0->SpeechRecognition) (2.0.4)\r\n",
      "Requirement already satisfied: idna<4,>=2.5 in /home/oleksandra/anaconda3/lib/python3.12/site-packages (from requests>=2.26.0->SpeechRecognition) (3.7)\r\n",
      "Requirement already satisfied: urllib3<3,>=1.21.1 in /home/oleksandra/anaconda3/lib/python3.12/site-packages (from requests>=2.26.0->SpeechRecognition) (2.2.2)\r\n",
      "Requirement already satisfied: certifi>=2017.4.17 in /home/oleksandra/anaconda3/lib/python3.12/site-packages (from requests>=2.26.0->SpeechRecognition) (2024.6.2)\r\n"
     ]
    }
   ],
   "execution_count": 2
  },
  {
   "cell_type": "code",
   "id": "7a2a247c-2dba-4c35-aec1-a020475ab1ff",
   "metadata": {
    "ExecuteTime": {
     "end_time": "2024-08-02T08:11:29.243078Z",
     "start_time": "2024-08-02T08:11:28.978424Z"
    }
   },
   "source": [
    "import os\n",
    "import speech_recognition as sr\n",
    "import ffmpeg"
   ],
   "outputs": [],
   "execution_count": 3
  },
  {
   "cell_type": "code",
   "id": "e2301af3-6ba7-40e3-8807-b905121cdca3",
   "metadata": {
    "ExecuteTime": {
     "end_time": "2024-08-02T08:14:50.269719Z",
     "start_time": "2024-08-02T08:14:50.249426Z"
    }
   },
   "source": [
    "ffmpeg_home = '/usr/bin/ffmpeg'\n",
    "current_directory = os.getcwd()\n",
    "input_video = 'C6190.MP4'"
   ],
   "outputs": [],
   "execution_count": 8
  },
  {
   "cell_type": "code",
   "id": "1401a2e1-58cc-4c85-8f5f-9affb9184b58",
   "metadata": {
    "ExecuteTime": {
     "end_time": "2024-08-02T08:16:34.144295Z",
     "start_time": "2024-08-02T08:14:52.129103Z"
    }
   },
   "source": [
    "ffmpeg = f'{ffmpeg_home} -i {current_directory}/{input_video} {current_directory}/processed.mp3'\n",
    "os.system(ffmpeg)"
   ],
   "outputs": [
    {
     "name": "stderr",
     "output_type": "stream",
     "text": [
      "ffmpeg version 4.4.2-0ubuntu0.22.04.1 Copyright (c) 2000-2021 the FFmpeg developers\n",
      "  built with gcc 11 (Ubuntu 11.2.0-19ubuntu1)\n",
      "  configuration: --prefix=/usr --extra-version=0ubuntu0.22.04.1 --toolchain=hardened --libdir=/usr/lib/x86_64-linux-gnu --incdir=/usr/include/x86_64-linux-gnu --arch=amd64 --enable-gpl --disable-stripping --enable-gnutls --enable-ladspa --enable-libaom --enable-libass --enable-libbluray --enable-libbs2b --enable-libcaca --enable-libcdio --enable-libcodec2 --enable-libdav1d --enable-libflite --enable-libfontconfig --enable-libfreetype --enable-libfribidi --enable-libgme --enable-libgsm --enable-libjack --enable-libmp3lame --enable-libmysofa --enable-libopenjpeg --enable-libopenmpt --enable-libopus --enable-libpulse --enable-librabbitmq --enable-librubberband --enable-libshine --enable-libsnappy --enable-libsoxr --enable-libspeex --enable-libsrt --enable-libssh --enable-libtheora --enable-libtwolame --enable-libvidstab --enable-libvorbis --enable-libvpx --enable-libwebp --enable-libx265 --enable-libxml2 --enable-libxvid --enable-libzimg --enable-libzmq --enable-libzvbi --enable-lv2 --enable-omx --enable-openal --enable-opencl --enable-opengl --enable-sdl2 --enable-pocketsphinx --enable-librsvg --enable-libmfx --enable-libdc1394 --enable-libdrm --enable-libiec61883 --enable-chromaprint --enable-frei0r --enable-libx264 --enable-shared\n",
      "  WARNING: library configuration mismatch\n",
      "  avcodec     configuration: --prefix=/usr --extra-version=0ubuntu0.22.04.1 --toolchain=hardened --libdir=/usr/lib/x86_64-linux-gnu --incdir=/usr/include/x86_64-linux-gnu --arch=amd64 --enable-gpl --disable-stripping --enable-gnutls --enable-ladspa --enable-libaom --enable-libass --enable-libbluray --enable-libbs2b --enable-libcaca --enable-libcdio --enable-libcodec2 --enable-libdav1d --enable-libflite --enable-libfontconfig --enable-libfreetype --enable-libfribidi --enable-libgme --enable-libgsm --enable-libjack --enable-libmp3lame --enable-libmysofa --enable-libopenjpeg --enable-libopenmpt --enable-libopus --enable-libpulse --enable-librabbitmq --enable-librubberband --enable-libshine --enable-libsnappy --enable-libsoxr --enable-libspeex --enable-libsrt --enable-libssh --enable-libtheora --enable-libtwolame --enable-libvidstab --enable-libvorbis --enable-libvpx --enable-libwebp --enable-libx265 --enable-libxml2 --enable-libxvid --enable-libzimg --enable-libzmq --enable-libzvbi --enable-lv2 --enable-omx --enable-openal --enable-opencl --enable-opengl --enable-sdl2 --enable-pocketsphinx --enable-librsvg --enable-libmfx --enable-libdc1394 --enable-libdrm --enable-libiec61883 --enable-chromaprint --enable-frei0r --enable-libx264 --enable-shared --enable-version3 --disable-doc --disable-programs --enable-libaribb24 --enable-libopencore_amrnb --enable-libopencore_amrwb --enable-libtesseract --enable-libvo_amrwbenc --enable-libsmbclient\n",
      "  libavutil      56. 70.100 / 56. 70.100\n",
      "  libavcodec     58.134.100 / 58.134.100\n",
      "  libavformat    58. 76.100 / 58. 76.100\n",
      "  libavdevice    58. 13.100 / 58. 13.100\n",
      "  libavfilter     7.110.100 /  7.110.100\n",
      "  libswscale      5.  9.100 /  5.  9.100\n",
      "  libswresample   3.  9.100 /  3.  9.100\n",
      "  libpostproc    55.  9.100 / 55.  9.100\n",
      "[mov,mp4,m4a,3gp,3g2,mj2 @ 0x564c99d97680] st: 0 edit list: 1 Missing key frame while searching for timestamp: 1001\n",
      "[mov,mp4,m4a,3gp,3g2,mj2 @ 0x564c99d97680] st: 0 edit list 1 Cannot find an index entry before timestamp: 1001.\n",
      "Guessed Channel Layout for Input Stream #0.1 : stereo\n",
      "Input #0, mov,mp4,m4a,3gp,3g2,mj2, from '/home/oleksandra/drive/DataScienceCourse/AITranscriber/C6190.MP4':\n",
      "  Metadata:\n",
      "    major_brand     : XAVC\n",
      "    minor_version   : 16785407\n",
      "    compatible_brands: XAVCmp42iso2\n",
      "    creation_time   : 2024-07-22T03:04:04.000000Z\n",
      "  Duration: 00:23:54.44, start: 0.000000, bitrate: 100683 kb/s\n",
      "  Stream #0:0(und): Video: h264 (High) (avc1 / 0x31637661), yuvj420p(pc), 3840x2160 [SAR 1:1 DAR 16:9], 96924 kb/s, 23.98 fps, 23.98 tbr, 24k tbn, 47.95 tbc (default)\n",
      "    Metadata:\n",
      "      creation_time   : 2024-07-22T03:04:04.000000Z\n",
      "      handler_name    : Video Media Handler\n",
      "      vendor_id       : [0][0][0][0]\n",
      "      encoder         : AVC Coding\n",
      "  Stream #0:1(und): Audio: pcm_s16be (twos / 0x736F7774), 48000 Hz, stereo, s16, 1536 kb/s (default)\n",
      "    Metadata:\n",
      "      creation_time   : 2024-07-22T03:04:04.000000Z\n",
      "      handler_name    : Sound Media Handler\n",
      "      vendor_id       : [0][0][0][0]\n",
      "  Stream #0:2(und): Data: none (rtmd / 0x646D7472), 2160 kb/s (default)\n",
      "    Metadata:\n",
      "      creation_time   : 2024-07-22T03:04:04.000000Z\n",
      "      handler_name    : Timed Metadata Media Handler\n",
      "      timecode        : 04:36:25:04\n",
      "Stream mapping:\n",
      "  Stream #0:1 -> #0:0 (pcm_s16be (native) -> mp3 (libmp3lame))\n",
      "Press [q] to stop, [?] for help\n",
      "Output #0, mp3, to '/home/oleksandra/drive/DataScienceCourse/AITranscriber/processed.mp3':\n",
      "  Metadata:\n",
      "    major_brand     : XAVC\n",
      "    minor_version   : 16785407\n",
      "    compatible_brands: XAVCmp42iso2\n",
      "    TSSE            : Lavf58.76.100\n",
      "  Stream #0:0(und): Audio: mp3, 48000 Hz, stereo, s16p (default)\n",
      "    Metadata:\n",
      "      creation_time   : 2024-07-22T03:04:04.000000Z\n",
      "      handler_name    : Sound Media Handler\n",
      "      vendor_id       : [0][0][0][0]\n",
      "      encoder         : Lavc58.134.100 libmp3lame\n",
      "size=   22414kB time=00:23:54.43 bitrate= 128.0kbits/s speed=14.1x    \n",
      "video:0kB audio:22414kB subtitle:0kB other streams:0kB global headers:0kB muxing overhead: 0.001486%\n"
     ]
    },
    {
     "data": {
      "text/plain": [
       "0"
      ]
     },
     "execution_count": 9,
     "metadata": {},
     "output_type": "execute_result"
    }
   ],
   "execution_count": 9
  },
  {
   "cell_type": "code",
   "id": "ab155044-e3fd-4504-96e4-d8cae78f7350",
   "metadata": {
    "ExecuteTime": {
     "end_time": "2024-08-02T08:16:40.189089Z",
     "start_time": "2024-08-02T08:16:34.146942Z"
    }
   },
   "source": [
    "ffmpeg_wav = f'{ffmpeg_home} -i {current_directory}/processed.mp3 {current_directory}/processed190.wav'\n",
    "os.system(ffmpeg_wav)"
   ],
   "outputs": [
    {
     "name": "stderr",
     "output_type": "stream",
     "text": [
      "ffmpeg version 4.4.2-0ubuntu0.22.04.1 Copyright (c) 2000-2021 the FFmpeg developers\n",
      "  built with gcc 11 (Ubuntu 11.2.0-19ubuntu1)\n",
      "  configuration: --prefix=/usr --extra-version=0ubuntu0.22.04.1 --toolchain=hardened --libdir=/usr/lib/x86_64-linux-gnu --incdir=/usr/include/x86_64-linux-gnu --arch=amd64 --enable-gpl --disable-stripping --enable-gnutls --enable-ladspa --enable-libaom --enable-libass --enable-libbluray --enable-libbs2b --enable-libcaca --enable-libcdio --enable-libcodec2 --enable-libdav1d --enable-libflite --enable-libfontconfig --enable-libfreetype --enable-libfribidi --enable-libgme --enable-libgsm --enable-libjack --enable-libmp3lame --enable-libmysofa --enable-libopenjpeg --enable-libopenmpt --enable-libopus --enable-libpulse --enable-librabbitmq --enable-librubberband --enable-libshine --enable-libsnappy --enable-libsoxr --enable-libspeex --enable-libsrt --enable-libssh --enable-libtheora --enable-libtwolame --enable-libvidstab --enable-libvorbis --enable-libvpx --enable-libwebp --enable-libx265 --enable-libxml2 --enable-libxvid --enable-libzimg --enable-libzmq --enable-libzvbi --enable-lv2 --enable-omx --enable-openal --enable-opencl --enable-opengl --enable-sdl2 --enable-pocketsphinx --enable-librsvg --enable-libmfx --enable-libdc1394 --enable-libdrm --enable-libiec61883 --enable-chromaprint --enable-frei0r --enable-libx264 --enable-shared\n",
      "  WARNING: library configuration mismatch\n",
      "  avcodec     configuration: --prefix=/usr --extra-version=0ubuntu0.22.04.1 --toolchain=hardened --libdir=/usr/lib/x86_64-linux-gnu --incdir=/usr/include/x86_64-linux-gnu --arch=amd64 --enable-gpl --disable-stripping --enable-gnutls --enable-ladspa --enable-libaom --enable-libass --enable-libbluray --enable-libbs2b --enable-libcaca --enable-libcdio --enable-libcodec2 --enable-libdav1d --enable-libflite --enable-libfontconfig --enable-libfreetype --enable-libfribidi --enable-libgme --enable-libgsm --enable-libjack --enable-libmp3lame --enable-libmysofa --enable-libopenjpeg --enable-libopenmpt --enable-libopus --enable-libpulse --enable-librabbitmq --enable-librubberband --enable-libshine --enable-libsnappy --enable-libsoxr --enable-libspeex --enable-libsrt --enable-libssh --enable-libtheora --enable-libtwolame --enable-libvidstab --enable-libvorbis --enable-libvpx --enable-libwebp --enable-libx265 --enable-libxml2 --enable-libxvid --enable-libzimg --enable-libzmq --enable-libzvbi --enable-lv2 --enable-omx --enable-openal --enable-opencl --enable-opengl --enable-sdl2 --enable-pocketsphinx --enable-librsvg --enable-libmfx --enable-libdc1394 --enable-libdrm --enable-libiec61883 --enable-chromaprint --enable-frei0r --enable-libx264 --enable-shared --enable-version3 --disable-doc --disable-programs --enable-libaribb24 --enable-libopencore_amrnb --enable-libopencore_amrwb --enable-libtesseract --enable-libvo_amrwbenc --enable-libsmbclient\n",
      "  libavutil      56. 70.100 / 56. 70.100\n",
      "  libavcodec     58.134.100 / 58.134.100\n",
      "  libavformat    58. 76.100 / 58. 76.100\n",
      "  libavdevice    58. 13.100 / 58. 13.100\n",
      "  libavfilter     7.110.100 /  7.110.100\n",
      "  libswscale      5.  9.100 /  5.  9.100\n",
      "  libswresample   3.  9.100 /  3.  9.100\n",
      "  libpostproc    55.  9.100 / 55.  9.100\n",
      "Input #0, mp3, from '/home/oleksandra/drive/DataScienceCourse/AITranscriber/processed.mp3':\n",
      "  Metadata:\n",
      "    major_brand     : XAVC\n",
      "    minor_version   : 16785407\n",
      "    compatible_brands: XAVCmp42iso2\n",
      "    encoder         : Lavf58.76.100\n",
      "  Duration: 00:23:54.48, start: 0.023021, bitrate: 128 kb/s\n",
      "  Stream #0:0: Audio: mp3, 48000 Hz, stereo, fltp, 128 kb/s\n",
      "    Metadata:\n",
      "      encoder         : Lavc58.13\n",
      "Stream mapping:\n",
      "  Stream #0:0 -> #0:0 (mp3 (mp3float) -> pcm_s16le (native))\n",
      "Press [q] to stop, [?] for help\n",
      "Output #0, wav, to '/home/oleksandra/drive/DataScienceCourse/AITranscriber/processed190.wav':\n",
      "  Metadata:\n",
      "    major_brand     : XAVC\n",
      "    minor_version   : 16785407\n",
      "    compatible_brands: XAVCmp42iso2\n",
      "    ISFT            : Lavf58.76.100\n",
      "  Stream #0:0: Audio: pcm_s16le ([1][0][0][0] / 0x0001), 48000 Hz, stereo, s16, 1536 kb/s\n",
      "    Metadata:\n",
      "      encoder         : Lavc58.134.100 pcm_s16le\n",
      "size=  268957kB time=00:23:54.43 bitrate=1536.0kbits/s speed= 248x    \n",
      "video:0kB audio:268957kB subtitle:0kB other streams:0kB global headers:0kB muxing overhead: 0.000028%\n"
     ]
    },
    {
     "data": {
      "text/plain": [
       "0"
      ]
     },
     "execution_count": 10,
     "metadata": {},
     "output_type": "execute_result"
    }
   ],
   "execution_count": 10
  },
  {
   "cell_type": "code",
   "id": "7bd81a9a-4fc3-4db2-a43a-fcfc5876b333",
   "metadata": {
    "ExecuteTime": {
     "end_time": "2024-08-02T08:16:40.203632Z",
     "start_time": "2024-08-02T08:16:40.191161Z"
    }
   },
   "source": [
    "r = sr.Recognizer()\n",
    "audio = sr.AudioFile('processed190.wav')"
   ],
   "outputs": [],
   "execution_count": 11
  },
  {
   "cell_type": "code",
   "id": "09b34716-8366-4e67-b924-5d70da811cc4",
   "metadata": {
    "ExecuteTime": {
     "end_time": "2024-08-01T20:03:33.277126Z",
     "start_time": "2024-08-01T20:03:24.059325Z"
    }
   },
   "source": [
    "with audio as source:\n",
    "    audio = r.record(source)\n",
    "    text = r.recognize_google(audio)"
   ],
   "outputs": [
    {
     "ename": "RequestError",
     "evalue": "recognition connection failed: [Errno 32] Broken pipe",
     "output_type": "error",
     "traceback": [
      "\u001B[0;31m---------------------------------------------------------------------------\u001B[0m",
      "\u001B[0;31mBrokenPipeError\u001B[0m                           Traceback (most recent call last)",
      "File \u001B[0;32m~/anaconda3/lib/python3.12/urllib/request.py:1344\u001B[0m, in \u001B[0;36mAbstractHTTPHandler.do_open\u001B[0;34m(self, http_class, req, **http_conn_args)\u001B[0m\n\u001B[1;32m   1343\u001B[0m \u001B[38;5;28;01mtry\u001B[39;00m:\n\u001B[0;32m-> 1344\u001B[0m     h\u001B[38;5;241m.\u001B[39mrequest(req\u001B[38;5;241m.\u001B[39mget_method(), req\u001B[38;5;241m.\u001B[39mselector, req\u001B[38;5;241m.\u001B[39mdata, headers,\n\u001B[1;32m   1345\u001B[0m               encode_chunked\u001B[38;5;241m=\u001B[39mreq\u001B[38;5;241m.\u001B[39mhas_header(\u001B[38;5;124m'\u001B[39m\u001B[38;5;124mTransfer-encoding\u001B[39m\u001B[38;5;124m'\u001B[39m))\n\u001B[1;32m   1346\u001B[0m \u001B[38;5;28;01mexcept\u001B[39;00m \u001B[38;5;167;01mOSError\u001B[39;00m \u001B[38;5;28;01mas\u001B[39;00m err: \u001B[38;5;66;03m# timeout error\u001B[39;00m\n",
      "File \u001B[0;32m~/anaconda3/lib/python3.12/http/client.py:1336\u001B[0m, in \u001B[0;36mHTTPConnection.request\u001B[0;34m(self, method, url, body, headers, encode_chunked)\u001B[0m\n\u001B[1;32m   1335\u001B[0m \u001B[38;5;250m\u001B[39m\u001B[38;5;124;03m\"\"\"Send a complete request to the server.\"\"\"\u001B[39;00m\n\u001B[0;32m-> 1336\u001B[0m \u001B[38;5;28mself\u001B[39m\u001B[38;5;241m.\u001B[39m_send_request(method, url, body, headers, encode_chunked)\n",
      "File \u001B[0;32m~/anaconda3/lib/python3.12/http/client.py:1382\u001B[0m, in \u001B[0;36mHTTPConnection._send_request\u001B[0;34m(self, method, url, body, headers, encode_chunked)\u001B[0m\n\u001B[1;32m   1381\u001B[0m     body \u001B[38;5;241m=\u001B[39m _encode(body, \u001B[38;5;124m'\u001B[39m\u001B[38;5;124mbody\u001B[39m\u001B[38;5;124m'\u001B[39m)\n\u001B[0;32m-> 1382\u001B[0m \u001B[38;5;28mself\u001B[39m\u001B[38;5;241m.\u001B[39mendheaders(body, encode_chunked\u001B[38;5;241m=\u001B[39mencode_chunked)\n",
      "File \u001B[0;32m~/anaconda3/lib/python3.12/http/client.py:1331\u001B[0m, in \u001B[0;36mHTTPConnection.endheaders\u001B[0;34m(self, message_body, encode_chunked)\u001B[0m\n\u001B[1;32m   1330\u001B[0m     \u001B[38;5;28;01mraise\u001B[39;00m CannotSendHeader()\n\u001B[0;32m-> 1331\u001B[0m \u001B[38;5;28mself\u001B[39m\u001B[38;5;241m.\u001B[39m_send_output(message_body, encode_chunked\u001B[38;5;241m=\u001B[39mencode_chunked)\n",
      "File \u001B[0;32m~/anaconda3/lib/python3.12/http/client.py:1130\u001B[0m, in \u001B[0;36mHTTPConnection._send_output\u001B[0;34m(self, message_body, encode_chunked)\u001B[0m\n\u001B[1;32m   1128\u001B[0m         chunk \u001B[38;5;241m=\u001B[39m \u001B[38;5;124mf\u001B[39m\u001B[38;5;124m'\u001B[39m\u001B[38;5;132;01m{\u001B[39;00m\u001B[38;5;28mlen\u001B[39m(chunk)\u001B[38;5;132;01m:\u001B[39;00m\u001B[38;5;124mX\u001B[39m\u001B[38;5;132;01m}\u001B[39;00m\u001B[38;5;130;01m\\r\u001B[39;00m\u001B[38;5;130;01m\\n\u001B[39;00m\u001B[38;5;124m'\u001B[39m\u001B[38;5;241m.\u001B[39mencode(\u001B[38;5;124m'\u001B[39m\u001B[38;5;124mascii\u001B[39m\u001B[38;5;124m'\u001B[39m) \u001B[38;5;241m+\u001B[39m chunk \\\n\u001B[1;32m   1129\u001B[0m             \u001B[38;5;241m+\u001B[39m \u001B[38;5;124mb\u001B[39m\u001B[38;5;124m'\u001B[39m\u001B[38;5;130;01m\\r\u001B[39;00m\u001B[38;5;130;01m\\n\u001B[39;00m\u001B[38;5;124m'\u001B[39m\n\u001B[0;32m-> 1130\u001B[0m     \u001B[38;5;28mself\u001B[39m\u001B[38;5;241m.\u001B[39msend(chunk)\n\u001B[1;32m   1132\u001B[0m \u001B[38;5;28;01mif\u001B[39;00m encode_chunked \u001B[38;5;129;01mand\u001B[39;00m \u001B[38;5;28mself\u001B[39m\u001B[38;5;241m.\u001B[39m_http_vsn \u001B[38;5;241m==\u001B[39m \u001B[38;5;241m11\u001B[39m:\n\u001B[1;32m   1133\u001B[0m     \u001B[38;5;66;03m# end chunked transfer\u001B[39;00m\n",
      "File \u001B[0;32m~/anaconda3/lib/python3.12/http/client.py:1055\u001B[0m, in \u001B[0;36mHTTPConnection.send\u001B[0;34m(self, data)\u001B[0m\n\u001B[1;32m   1054\u001B[0m \u001B[38;5;28;01mtry\u001B[39;00m:\n\u001B[0;32m-> 1055\u001B[0m     \u001B[38;5;28mself\u001B[39m\u001B[38;5;241m.\u001B[39msock\u001B[38;5;241m.\u001B[39msendall(data)\n\u001B[1;32m   1056\u001B[0m \u001B[38;5;28;01mexcept\u001B[39;00m \u001B[38;5;167;01mTypeError\u001B[39;00m:\n",
      "\u001B[0;31mBrokenPipeError\u001B[0m: [Errno 32] Broken pipe",
      "\nDuring handling of the above exception, another exception occurred:\n",
      "\u001B[0;31mURLError\u001B[0m                                  Traceback (most recent call last)",
      "File \u001B[0;32m~/anaconda3/lib/python3.12/site-packages/speech_recognition/recognizers/google.py:215\u001B[0m, in \u001B[0;36mobtain_transcription\u001B[0;34m(request, timeout)\u001B[0m\n\u001B[1;32m    214\u001B[0m \u001B[38;5;28;01mtry\u001B[39;00m:\n\u001B[0;32m--> 215\u001B[0m     response \u001B[38;5;241m=\u001B[39m urlopen(request, timeout\u001B[38;5;241m=\u001B[39mtimeout)\n\u001B[1;32m    216\u001B[0m \u001B[38;5;28;01mexcept\u001B[39;00m HTTPError \u001B[38;5;28;01mas\u001B[39;00m e:\n",
      "File \u001B[0;32m~/anaconda3/lib/python3.12/urllib/request.py:215\u001B[0m, in \u001B[0;36murlopen\u001B[0;34m(url, data, timeout, cafile, capath, cadefault, context)\u001B[0m\n\u001B[1;32m    214\u001B[0m     opener \u001B[38;5;241m=\u001B[39m _opener\n\u001B[0;32m--> 215\u001B[0m \u001B[38;5;28;01mreturn\u001B[39;00m opener\u001B[38;5;241m.\u001B[39mopen(url, data, timeout)\n",
      "File \u001B[0;32m~/anaconda3/lib/python3.12/urllib/request.py:515\u001B[0m, in \u001B[0;36mOpenerDirector.open\u001B[0;34m(self, fullurl, data, timeout)\u001B[0m\n\u001B[1;32m    514\u001B[0m sys\u001B[38;5;241m.\u001B[39maudit(\u001B[38;5;124m'\u001B[39m\u001B[38;5;124murllib.Request\u001B[39m\u001B[38;5;124m'\u001B[39m, req\u001B[38;5;241m.\u001B[39mfull_url, req\u001B[38;5;241m.\u001B[39mdata, req\u001B[38;5;241m.\u001B[39mheaders, req\u001B[38;5;241m.\u001B[39mget_method())\n\u001B[0;32m--> 515\u001B[0m response \u001B[38;5;241m=\u001B[39m \u001B[38;5;28mself\u001B[39m\u001B[38;5;241m.\u001B[39m_open(req, data)\n\u001B[1;32m    517\u001B[0m \u001B[38;5;66;03m# post-process response\u001B[39;00m\n",
      "File \u001B[0;32m~/anaconda3/lib/python3.12/urllib/request.py:532\u001B[0m, in \u001B[0;36mOpenerDirector._open\u001B[0;34m(self, req, data)\u001B[0m\n\u001B[1;32m    531\u001B[0m protocol \u001B[38;5;241m=\u001B[39m req\u001B[38;5;241m.\u001B[39mtype\n\u001B[0;32m--> 532\u001B[0m result \u001B[38;5;241m=\u001B[39m \u001B[38;5;28mself\u001B[39m\u001B[38;5;241m.\u001B[39m_call_chain(\u001B[38;5;28mself\u001B[39m\u001B[38;5;241m.\u001B[39mhandle_open, protocol, protocol \u001B[38;5;241m+\u001B[39m\n\u001B[1;32m    533\u001B[0m                           \u001B[38;5;124m'\u001B[39m\u001B[38;5;124m_open\u001B[39m\u001B[38;5;124m'\u001B[39m, req)\n\u001B[1;32m    534\u001B[0m \u001B[38;5;28;01mif\u001B[39;00m result:\n",
      "File \u001B[0;32m~/anaconda3/lib/python3.12/urllib/request.py:492\u001B[0m, in \u001B[0;36mOpenerDirector._call_chain\u001B[0;34m(self, chain, kind, meth_name, *args)\u001B[0m\n\u001B[1;32m    491\u001B[0m func \u001B[38;5;241m=\u001B[39m \u001B[38;5;28mgetattr\u001B[39m(handler, meth_name)\n\u001B[0;32m--> 492\u001B[0m result \u001B[38;5;241m=\u001B[39m func(\u001B[38;5;241m*\u001B[39margs)\n\u001B[1;32m    493\u001B[0m \u001B[38;5;28;01mif\u001B[39;00m result \u001B[38;5;129;01mis\u001B[39;00m \u001B[38;5;129;01mnot\u001B[39;00m \u001B[38;5;28;01mNone\u001B[39;00m:\n",
      "File \u001B[0;32m~/anaconda3/lib/python3.12/urllib/request.py:1373\u001B[0m, in \u001B[0;36mHTTPHandler.http_open\u001B[0;34m(self, req)\u001B[0m\n\u001B[1;32m   1372\u001B[0m \u001B[38;5;28;01mdef\u001B[39;00m \u001B[38;5;21mhttp_open\u001B[39m(\u001B[38;5;28mself\u001B[39m, req):\n\u001B[0;32m-> 1373\u001B[0m     \u001B[38;5;28;01mreturn\u001B[39;00m \u001B[38;5;28mself\u001B[39m\u001B[38;5;241m.\u001B[39mdo_open(http\u001B[38;5;241m.\u001B[39mclient\u001B[38;5;241m.\u001B[39mHTTPConnection, req)\n",
      "File \u001B[0;32m~/anaconda3/lib/python3.12/urllib/request.py:1347\u001B[0m, in \u001B[0;36mAbstractHTTPHandler.do_open\u001B[0;34m(self, http_class, req, **http_conn_args)\u001B[0m\n\u001B[1;32m   1346\u001B[0m \u001B[38;5;28;01mexcept\u001B[39;00m \u001B[38;5;167;01mOSError\u001B[39;00m \u001B[38;5;28;01mas\u001B[39;00m err: \u001B[38;5;66;03m# timeout error\u001B[39;00m\n\u001B[0;32m-> 1347\u001B[0m     \u001B[38;5;28;01mraise\u001B[39;00m URLError(err)\n\u001B[1;32m   1348\u001B[0m r \u001B[38;5;241m=\u001B[39m h\u001B[38;5;241m.\u001B[39mgetresponse()\n",
      "\u001B[0;31mURLError\u001B[0m: <urlopen error [Errno 32] Broken pipe>",
      "\nDuring handling of the above exception, another exception occurred:\n",
      "\u001B[0;31mRequestError\u001B[0m                              Traceback (most recent call last)",
      "Cell \u001B[0;32mIn[39], line 3\u001B[0m\n\u001B[1;32m      1\u001B[0m \u001B[38;5;28;01mwith\u001B[39;00m audio \u001B[38;5;28;01mas\u001B[39;00m source:\n\u001B[1;32m      2\u001B[0m     audio \u001B[38;5;241m=\u001B[39m r\u001B[38;5;241m.\u001B[39mrecord(source)\n\u001B[0;32m----> 3\u001B[0m     text \u001B[38;5;241m=\u001B[39m r\u001B[38;5;241m.\u001B[39mrecognize_google(audio)\n",
      "File \u001B[0;32m~/anaconda3/lib/python3.12/site-packages/speech_recognition/recognizers/google.py:256\u001B[0m, in \u001B[0;36mrecognize_legacy\u001B[0;34m(recognizer, audio_data, key, language, pfilter, show_all, with_confidence, endpoint)\u001B[0m\n\u001B[1;32m    251\u001B[0m request_builder \u001B[38;5;241m=\u001B[39m create_request_builder(\n\u001B[1;32m    252\u001B[0m     endpoint\u001B[38;5;241m=\u001B[39mendpoint, key\u001B[38;5;241m=\u001B[39mkey, language\u001B[38;5;241m=\u001B[39mlanguage, filter_level\u001B[38;5;241m=\u001B[39mpfilter\n\u001B[1;32m    253\u001B[0m )\n\u001B[1;32m    254\u001B[0m request \u001B[38;5;241m=\u001B[39m request_builder\u001B[38;5;241m.\u001B[39mbuild(audio_data)\n\u001B[0;32m--> 256\u001B[0m response_text \u001B[38;5;241m=\u001B[39m obtain_transcription(\n\u001B[1;32m    257\u001B[0m     request, timeout\u001B[38;5;241m=\u001B[39mrecognizer\u001B[38;5;241m.\u001B[39moperation_timeout\n\u001B[1;32m    258\u001B[0m )\n\u001B[1;32m    260\u001B[0m output_parser \u001B[38;5;241m=\u001B[39m OutputParser(\n\u001B[1;32m    261\u001B[0m     show_all\u001B[38;5;241m=\u001B[39mshow_all, with_confidence\u001B[38;5;241m=\u001B[39mwith_confidence\n\u001B[1;32m    262\u001B[0m )\n\u001B[1;32m    263\u001B[0m \u001B[38;5;28;01mreturn\u001B[39;00m output_parser\u001B[38;5;241m.\u001B[39mparse(response_text)\n",
      "File \u001B[0;32m~/anaconda3/lib/python3.12/site-packages/speech_recognition/recognizers/google.py:219\u001B[0m, in \u001B[0;36mobtain_transcription\u001B[0;34m(request, timeout)\u001B[0m\n\u001B[1;32m    217\u001B[0m     \u001B[38;5;28;01mraise\u001B[39;00m RequestError(\u001B[38;5;124m\"\u001B[39m\u001B[38;5;124mrecognition request failed: \u001B[39m\u001B[38;5;132;01m{}\u001B[39;00m\u001B[38;5;124m\"\u001B[39m\u001B[38;5;241m.\u001B[39mformat(e\u001B[38;5;241m.\u001B[39mreason))\n\u001B[1;32m    218\u001B[0m \u001B[38;5;28;01mexcept\u001B[39;00m URLError \u001B[38;5;28;01mas\u001B[39;00m e:\n\u001B[0;32m--> 219\u001B[0m     \u001B[38;5;28;01mraise\u001B[39;00m RequestError(\n\u001B[1;32m    220\u001B[0m         \u001B[38;5;124m\"\u001B[39m\u001B[38;5;124mrecognition connection failed: \u001B[39m\u001B[38;5;132;01m{}\u001B[39;00m\u001B[38;5;124m\"\u001B[39m\u001B[38;5;241m.\u001B[39mformat(e\u001B[38;5;241m.\u001B[39mreason)\n\u001B[1;32m    221\u001B[0m     )\n\u001B[1;32m    222\u001B[0m \u001B[38;5;28;01mreturn\u001B[39;00m response\u001B[38;5;241m.\u001B[39mread()\u001B[38;5;241m.\u001B[39mdecode(\u001B[38;5;124m\"\u001B[39m\u001B[38;5;124mutf-8\u001B[39m\u001B[38;5;124m\"\u001B[39m)\n",
      "\u001B[0;31mRequestError\u001B[0m: recognition connection failed: [Errno 32] Broken pipe"
     ]
    }
   ],
   "execution_count": 39
  },
  {
   "cell_type": "code",
   "execution_count": null,
   "id": "a8b0d238-3e69-44ce-ba61-7f16ee69cfb0",
   "metadata": {},
   "outputs": [],
   "source": [
    "print(text)"
   ]
  }
 ],
 "metadata": {
  "kernelspec": {
   "display_name": "Python 3 (ipykernel)",
   "language": "python",
   "name": "python3"
  },
  "language_info": {
   "codemirror_mode": {
    "name": "ipython",
    "version": 3
   },
   "file_extension": ".py",
   "mimetype": "text/x-python",
   "name": "python",
   "nbconvert_exporter": "python",
   "pygments_lexer": "ipython3",
   "version": "3.12.4"
  }
 },
 "nbformat": 4,
 "nbformat_minor": 5
}
